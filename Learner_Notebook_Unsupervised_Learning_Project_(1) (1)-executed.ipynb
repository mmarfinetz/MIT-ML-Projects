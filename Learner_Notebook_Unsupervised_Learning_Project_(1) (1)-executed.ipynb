{
 "cells": [
  {
   "cell_type": "markdown",
   "id": "037c36a2",
   "metadata": {},
   "source": [
    "\n",
    "<h2 id=\"Project:-Unsupervised-Learning\">Project: Unsupervised Learning<a class=\"anchor-link\" href=\"#Project:-Unsupervised-Learning\">¶</a></h2><hr/>\n",
    "<h2 id=\"Marks:-30\"><strong>Marks: 30</strong><a class=\"anchor-link\" href=\"#Marks:-30\">¶</a></h2><p>Welcome to the project on Unsupervised Learning. We will be using the Credit Card Customer Data for this project.</p>\n",
    "<hr/>\n",
    "<h2 id=\"Context:\">Context:<a class=\"anchor-link\" href=\"#Context:\">¶</a></h2><hr/>\n",
    "<p>AllLife Bank wants to focus on its credit card customer base in the next financial year. They have been advised by their marketing research team, that the penetration in the market can be improved. Based on this input, the Marketing team proposes to run personalized campaigns to target new customers as well as upsell to existing customers. Another insight from the market research was that the customers perceive the support services of the back poorly. Based on this, the Operations team wants to upgrade the service delivery model, to ensure that customers queries are resolved faster. Head of Marketing and Head of Delivery both decide to reach out to the Data Science team for help.</p>\n",
    "<hr/>\n",
    "<h2 id=\"Objective:\">Objective:<a class=\"anchor-link\" href=\"#Objective:\">¶</a></h2><hr/>\n",
    "<p>Identify different segments in the existing customer based on their spending patterns as well as past interaction with the bank.</p>\n",
    "<hr/>\n",
    "<h2 id=\"About-the-data:\">About the data:<a class=\"anchor-link\" href=\"#About-the-data:\">¶</a></h2><hr/>\n",
    "<p>Data is of various customers of a bank with their credit limit, the total number of credit cards the customer has, and different channels through which customer has contacted the bank for any queries, different channels include visiting the bank, online and through a call centre.</p>\n",
    "<ul>\n",
    "<li>Sl_no - Customer Serial Number</li>\n",
    "<li>Customer Key - Customer identification</li>\n",
    "<li>Avg_Credit_Limit  - Average credit limit (currency is not specified, you can make an assumption around this)</li>\n",
    "<li>Total_Credit_Cards    - Total number of credit cards </li>\n",
    "<li>Total_visits_bank - Total bank visits</li>\n",
    "<li>Total_visits_online -  Total online visits</li>\n",
    "<li>Total_calls_made - Total calls made</li>\n",
    "</ul>\n"
   ]
  },
  {
   "cell_type": "markdown",
   "id": "5a0ef1ba",
   "metadata": {},
   "source": [
    "\n",
    "<h2 id=\"Importing-libraries-and-overview-of-the-dataset\">Importing libraries and overview of the dataset<a class=\"anchor-link\" href=\"#Importing-libraries-and-overview-of-the-dataset\">¶</a></h2>\n"
   ]
  },
  {
   "cell_type": "code",
   "execution_count": 1,
   "id": "7094dbd5",
   "metadata": {
    "execution": {
     "iopub.execute_input": "2025-08-26T15:18:58.630031Z",
     "iopub.status.busy": "2025-08-26T15:18:58.629658Z",
     "iopub.status.idle": "2025-08-26T15:19:07.737033Z",
     "shell.execute_reply": "2025-08-26T15:19:07.735917Z"
    }
   },
   "outputs": [
    {
     "name": "stdout",
     "output_type": "stream",
     "text": [
      "Requirement already satisfied: scikit-learn-extra in /Users/mitch/.pyenv/versions/3.10.13/lib/python3.10/site-packages (0.3.0)\r\n",
      "Requirement already satisfied: numpy>=1.13.3 in /Users/mitch/.pyenv/versions/3.10.13/lib/python3.10/site-packages (from scikit-learn-extra) (1.24.3)\r\n",
      "Requirement already satisfied: scipy>=0.19.1 in /Users/mitch/.pyenv/versions/3.10.13/lib/python3.10/site-packages (from scikit-learn-extra) (1.15.2)\r\n",
      "Requirement already satisfied: scikit-learn>=0.23.0 in /Users/mitch/.pyenv/versions/3.10.13/lib/python3.10/site-packages (from scikit-learn-extra) (1.3.0)\r\n",
      "Requirement already satisfied: joblib>=1.1.1 in /Users/mitch/.pyenv/versions/3.10.13/lib/python3.10/site-packages (from scikit-learn>=0.23.0->scikit-learn-extra) (1.4.2)\r\n",
      "Requirement already satisfied: threadpoolctl>=2.0.0 in /Users/mitch/.pyenv/versions/3.10.13/lib/python3.10/site-packages (from scikit-learn>=0.23.0->scikit-learn-extra) (3.6.0)\r\n"
     ]
    }
   ],
   "source": [
    "#Import all the necessary packages\n",
    "\n",
    "import pandas as pd\n",
    "import numpy as np\n",
    "\n",
    "import matplotlib.pylab as plt\n",
    "import seaborn as sns\n",
    "\n",
    "#to scale the data using z-score \n",
    "from sklearn.preprocessing import StandardScaler\n",
    "\n",
    "#importing clustering algorithms\n",
    "from sklearn.cluster import KMeans\n",
    "from sklearn.mixture import GaussianMixture\n",
    "\n",
    "\n",
    "#if the below line of code gives an error, then uncomment the following code to install the sklearn_extra library\n",
    "!pip install scikit-learn-extra\n",
    "from sklearn_extra.cluster import KMedoids\n",
    "\n",
    "import warnings\n",
    "warnings.filterwarnings(\"ignore\")\n"
   ]
  },
  {
   "cell_type": "markdown",
   "id": "625ff492",
   "metadata": {},
   "source": [
    "\n",
    "<h4 id=\"Loading-data\">Loading data<a class=\"anchor-link\" href=\"#Loading-data\">¶</a></h4>\n"
   ]
  },
  {
   "cell_type": "code",
   "execution_count": 2,
   "id": "7f2cb16a",
   "metadata": {
    "execution": {
     "iopub.execute_input": "2025-08-26T15:19:07.768673Z",
     "iopub.status.busy": "2025-08-26T15:19:07.767686Z",
     "iopub.status.idle": "2025-08-26T15:19:07.832153Z",
     "shell.execute_reply": "2025-08-26T15:19:07.830872Z"
    }
   },
   "outputs": [
    {
     "data": {
      "text/html": [
       "<div>\n",
       "<style scoped>\n",
       "    .dataframe tbody tr th:only-of-type {\n",
       "        vertical-align: middle;\n",
       "    }\n",
       "\n",
       "    .dataframe tbody tr th {\n",
       "        vertical-align: top;\n",
       "    }\n",
       "\n",
       "    .dataframe thead th {\n",
       "        text-align: right;\n",
       "    }\n",
       "</style>\n",
       "<table border=\"1\" class=\"dataframe\">\n",
       "  <thead>\n",
       "    <tr style=\"text-align: right;\">\n",
       "      <th></th>\n",
       "      <th>Sl_No</th>\n",
       "      <th>Customer Key</th>\n",
       "      <th>Avg_Credit_Limit</th>\n",
       "      <th>Total_Credit_Cards</th>\n",
       "      <th>Total_visits_bank</th>\n",
       "      <th>Total_visits_online</th>\n",
       "      <th>Total_calls_made</th>\n",
       "    </tr>\n",
       "  </thead>\n",
       "  <tbody>\n",
       "    <tr>\n",
       "      <th>0</th>\n",
       "      <td>1</td>\n",
       "      <td>87073</td>\n",
       "      <td>100000</td>\n",
       "      <td>2</td>\n",
       "      <td>1</td>\n",
       "      <td>1</td>\n",
       "      <td>0</td>\n",
       "    </tr>\n",
       "    <tr>\n",
       "      <th>1</th>\n",
       "      <td>2</td>\n",
       "      <td>38414</td>\n",
       "      <td>50000</td>\n",
       "      <td>3</td>\n",
       "      <td>0</td>\n",
       "      <td>10</td>\n",
       "      <td>9</td>\n",
       "    </tr>\n",
       "    <tr>\n",
       "      <th>2</th>\n",
       "      <td>3</td>\n",
       "      <td>17341</td>\n",
       "      <td>50000</td>\n",
       "      <td>7</td>\n",
       "      <td>1</td>\n",
       "      <td>3</td>\n",
       "      <td>4</td>\n",
       "    </tr>\n",
       "    <tr>\n",
       "      <th>3</th>\n",
       "      <td>4</td>\n",
       "      <td>40496</td>\n",
       "      <td>30000</td>\n",
       "      <td>5</td>\n",
       "      <td>1</td>\n",
       "      <td>1</td>\n",
       "      <td>4</td>\n",
       "    </tr>\n",
       "    <tr>\n",
       "      <th>4</th>\n",
       "      <td>5</td>\n",
       "      <td>47437</td>\n",
       "      <td>100000</td>\n",
       "      <td>6</td>\n",
       "      <td>0</td>\n",
       "      <td>12</td>\n",
       "      <td>3</td>\n",
       "    </tr>\n",
       "  </tbody>\n",
       "</table>\n",
       "</div>"
      ],
      "text/plain": [
       "   Sl_No  Customer Key  Avg_Credit_Limit  Total_Credit_Cards  \\\n",
       "0      1         87073            100000                   2   \n",
       "1      2         38414             50000                   3   \n",
       "2      3         17341             50000                   7   \n",
       "3      4         40496             30000                   5   \n",
       "4      5         47437            100000                   6   \n",
       "\n",
       "   Total_visits_bank  Total_visits_online  Total_calls_made  \n",
       "0                  1                    1                 0  \n",
       "1                  0                   10                 9  \n",
       "2                  1                    3                 4  \n",
       "3                  1                    1                 4  \n",
       "4                  0                   12                 3  "
      ]
     },
     "execution_count": 2,
     "metadata": {},
     "output_type": "execute_result"
    }
   ],
   "source": [
    "data = pd.read_csv('Credit_Card_Customer_Data (1).csv')\n",
    "data.head()\n"
   ]
  },
  {
   "cell_type": "markdown",
   "id": "e18a2023",
   "metadata": {},
   "source": [
    "\n",
    "<h4 id=\"Check-the-info-of-the-data\">Check the info of the data<a class=\"anchor-link\" href=\"#Check-the-info-of-the-data\">¶</a></h4>\n"
   ]
  },
  {
   "cell_type": "code",
   "execution_count": 3,
   "id": "2a900211",
   "metadata": {
    "execution": {
     "iopub.execute_input": "2025-08-26T15:19:07.853904Z",
     "iopub.status.busy": "2025-08-26T15:19:07.848744Z",
     "iopub.status.idle": "2025-08-26T15:19:07.870186Z",
     "shell.execute_reply": "2025-08-26T15:19:07.869160Z"
    }
   },
   "outputs": [
    {
     "name": "stdout",
     "output_type": "stream",
     "text": [
      "<class 'pandas.core.frame.DataFrame'>\n",
      "RangeIndex: 660 entries, 0 to 659\n",
      "Data columns (total 7 columns):\n",
      " #   Column               Non-Null Count  Dtype\n",
      "---  ------               --------------  -----\n",
      " 0   Sl_No                660 non-null    int64\n",
      " 1   Customer Key         660 non-null    int64\n",
      " 2   Avg_Credit_Limit     660 non-null    int64\n",
      " 3   Total_Credit_Cards   660 non-null    int64\n",
      " 4   Total_visits_bank    660 non-null    int64\n",
      " 5   Total_visits_online  660 non-null    int64\n",
      " 6   Total_calls_made     660 non-null    int64\n",
      "dtypes: int64(7)\n",
      "memory usage: 36.2 KB\n"
     ]
    }
   ],
   "source": [
    "data.info()\n"
   ]
  },
  {
   "cell_type": "markdown",
   "id": "79ce24b1",
   "metadata": {},
   "source": [
    "\n",
    "<p><strong>Observations:</strong></p>\n",
    "<ul>\n",
    "<li>There are 660 observations and 7 columns in the dataset.</li>\n",
    "<li>All columns have 660 non-null values i.e. there are no missing values.</li>\n",
    "<li>All columns are of int64 data type.</li>\n",
    "</ul>\n"
   ]
  },
  {
   "cell_type": "markdown",
   "id": "b9ed3e01",
   "metadata": {},
   "source": [
    "\n",
    "<p><strong>There are no missing values. Let us now figure out the uniques in each column.</strong></p>\n"
   ]
  },
  {
   "cell_type": "code",
   "execution_count": 4,
   "id": "97a7b8f4",
   "metadata": {
    "execution": {
     "iopub.execute_input": "2025-08-26T15:19:07.875078Z",
     "iopub.status.busy": "2025-08-26T15:19:07.874640Z",
     "iopub.status.idle": "2025-08-26T15:19:07.883894Z",
     "shell.execute_reply": "2025-08-26T15:19:07.883136Z"
    }
   },
   "outputs": [
    {
     "data": {
      "text/plain": [
       "Sl_No                  660\n",
       "Customer Key           655\n",
       "Avg_Credit_Limit       110\n",
       "Total_Credit_Cards      10\n",
       "Total_visits_bank        6\n",
       "Total_visits_online     16\n",
       "Total_calls_made        11\n",
       "dtype: int64"
      ]
     },
     "execution_count": 4,
     "metadata": {},
     "output_type": "execute_result"
    }
   ],
   "source": [
    "data.nunique()\n"
   ]
  },
  {
   "cell_type": "markdown",
   "id": "c1bbe9e3",
   "metadata": {},
   "source": [
    "\n",
    "<ul>\n",
    "<li>Customer key, which is an identifier, has repeated values. We should treat the same accordingly before applying any algorithm.</li>\n",
    "</ul>\n"
   ]
  },
  {
   "cell_type": "markdown",
   "id": "7016faa8",
   "metadata": {},
   "source": [
    "\n",
    "<h2 id=\"Data-Preprocessing-and-Exploratory-Data-Analysis\">Data Preprocessing and Exploratory Data Analysis<a class=\"anchor-link\" href=\"#Data-Preprocessing-and-Exploratory-Data-Analysis\">¶</a></h2>\n"
   ]
  },
  {
   "cell_type": "markdown",
   "id": "64bf79ce",
   "metadata": {},
   "source": [
    "\n",
    "<h4 id=\"Question-1:-Identify-and-drop-the-rows-with-duplicated-customer-keys-(2-Marks)\"><strong>Question 1: Identify and drop the rows with duplicated customer keys (2 Marks)</strong><a class=\"anchor-link\" href=\"#Question-1:-Identify-and-drop-the-rows-with-duplicated-customer-keys-(2-Marks)\">¶</a></h4>\n"
   ]
  },
  {
   "cell_type": "code",
   "execution_count": 5,
   "id": "8ccfc35e",
   "metadata": {
    "execution": {
     "iopub.execute_input": "2025-08-26T15:19:07.888611Z",
     "iopub.status.busy": "2025-08-26T15:19:07.887675Z",
     "iopub.status.idle": "2025-08-26T15:19:07.900500Z",
     "shell.execute_reply": "2025-08-26T15:19:07.899820Z"
    }
   },
   "outputs": [
    {
     "data": {
      "text/html": [
       "<div>\n",
       "<style scoped>\n",
       "    .dataframe tbody tr th:only-of-type {\n",
       "        vertical-align: middle;\n",
       "    }\n",
       "\n",
       "    .dataframe tbody tr th {\n",
       "        vertical-align: top;\n",
       "    }\n",
       "\n",
       "    .dataframe thead th {\n",
       "        text-align: right;\n",
       "    }\n",
       "</style>\n",
       "<table border=\"1\" class=\"dataframe\">\n",
       "  <thead>\n",
       "    <tr style=\"text-align: right;\">\n",
       "      <th></th>\n",
       "      <th>Sl_No</th>\n",
       "      <th>Customer Key</th>\n",
       "      <th>Avg_Credit_Limit</th>\n",
       "      <th>Total_Credit_Cards</th>\n",
       "      <th>Total_visits_bank</th>\n",
       "      <th>Total_visits_online</th>\n",
       "      <th>Total_calls_made</th>\n",
       "    </tr>\n",
       "  </thead>\n",
       "  <tbody>\n",
       "    <tr>\n",
       "      <th>332</th>\n",
       "      <td>333</td>\n",
       "      <td>47437</td>\n",
       "      <td>17000</td>\n",
       "      <td>7</td>\n",
       "      <td>3</td>\n",
       "      <td>1</td>\n",
       "      <td>0</td>\n",
       "    </tr>\n",
       "    <tr>\n",
       "      <th>398</th>\n",
       "      <td>399</td>\n",
       "      <td>96929</td>\n",
       "      <td>67000</td>\n",
       "      <td>6</td>\n",
       "      <td>2</td>\n",
       "      <td>2</td>\n",
       "      <td>2</td>\n",
       "    </tr>\n",
       "    <tr>\n",
       "      <th>432</th>\n",
       "      <td>433</td>\n",
       "      <td>37252</td>\n",
       "      <td>59000</td>\n",
       "      <td>6</td>\n",
       "      <td>2</td>\n",
       "      <td>1</td>\n",
       "      <td>2</td>\n",
       "    </tr>\n",
       "    <tr>\n",
       "      <th>541</th>\n",
       "      <td>542</td>\n",
       "      <td>50706</td>\n",
       "      <td>60000</td>\n",
       "      <td>7</td>\n",
       "      <td>5</td>\n",
       "      <td>2</td>\n",
       "      <td>2</td>\n",
       "    </tr>\n",
       "    <tr>\n",
       "      <th>632</th>\n",
       "      <td>633</td>\n",
       "      <td>97935</td>\n",
       "      <td>187000</td>\n",
       "      <td>7</td>\n",
       "      <td>1</td>\n",
       "      <td>7</td>\n",
       "      <td>0</td>\n",
       "    </tr>\n",
       "  </tbody>\n",
       "</table>\n",
       "</div>"
      ],
      "text/plain": [
       "     Sl_No  Customer Key  Avg_Credit_Limit  Total_Credit_Cards  \\\n",
       "332    333         47437             17000                   7   \n",
       "398    399         96929             67000                   6   \n",
       "432    433         37252             59000                   6   \n",
       "541    542         50706             60000                   7   \n",
       "632    633         97935            187000                   7   \n",
       "\n",
       "     Total_visits_bank  Total_visits_online  Total_calls_made  \n",
       "332                  3                    1                 0  \n",
       "398                  2                    2                 2  \n",
       "432                  2                    1                 2  \n",
       "541                  5                    2                 2  \n",
       "632                  1                    7                 0  "
      ]
     },
     "execution_count": 5,
     "metadata": {},
     "output_type": "execute_result"
    }
   ],
   "source": [
    "# Identify the duplicated customer keys\n",
    "duplicate_keys = data[data.duplicated(['Customer Key'])]\n",
    "duplicate_keys\n"
   ]
  },
  {
   "cell_type": "code",
   "execution_count": 6,
   "id": "c5a03513",
   "metadata": {
    "execution": {
     "iopub.execute_input": "2025-08-26T15:19:07.903817Z",
     "iopub.status.busy": "2025-08-26T15:19:07.903509Z",
     "iopub.status.idle": "2025-08-26T15:19:07.918003Z",
     "shell.execute_reply": "2025-08-26T15:19:07.917357Z"
    }
   },
   "outputs": [
    {
     "data": {
      "text/html": [
       "<div>\n",
       "<style scoped>\n",
       "    .dataframe tbody tr th:only-of-type {\n",
       "        vertical-align: middle;\n",
       "    }\n",
       "\n",
       "    .dataframe tbody tr th {\n",
       "        vertical-align: top;\n",
       "    }\n",
       "\n",
       "    .dataframe thead th {\n",
       "        text-align: right;\n",
       "    }\n",
       "</style>\n",
       "<table border=\"1\" class=\"dataframe\">\n",
       "  <thead>\n",
       "    <tr style=\"text-align: right;\">\n",
       "      <th></th>\n",
       "      <th>Sl_No</th>\n",
       "      <th>Customer Key</th>\n",
       "      <th>Avg_Credit_Limit</th>\n",
       "      <th>Total_Credit_Cards</th>\n",
       "      <th>Total_visits_bank</th>\n",
       "      <th>Total_visits_online</th>\n",
       "      <th>Total_calls_made</th>\n",
       "    </tr>\n",
       "  </thead>\n",
       "  <tbody>\n",
       "    <tr>\n",
       "      <th>0</th>\n",
       "      <td>1</td>\n",
       "      <td>87073</td>\n",
       "      <td>100000</td>\n",
       "      <td>2</td>\n",
       "      <td>1</td>\n",
       "      <td>1</td>\n",
       "      <td>0</td>\n",
       "    </tr>\n",
       "    <tr>\n",
       "      <th>1</th>\n",
       "      <td>2</td>\n",
       "      <td>38414</td>\n",
       "      <td>50000</td>\n",
       "      <td>3</td>\n",
       "      <td>0</td>\n",
       "      <td>10</td>\n",
       "      <td>9</td>\n",
       "    </tr>\n",
       "    <tr>\n",
       "      <th>2</th>\n",
       "      <td>3</td>\n",
       "      <td>17341</td>\n",
       "      <td>50000</td>\n",
       "      <td>7</td>\n",
       "      <td>1</td>\n",
       "      <td>3</td>\n",
       "      <td>4</td>\n",
       "    </tr>\n",
       "    <tr>\n",
       "      <th>3</th>\n",
       "      <td>4</td>\n",
       "      <td>40496</td>\n",
       "      <td>30000</td>\n",
       "      <td>5</td>\n",
       "      <td>1</td>\n",
       "      <td>1</td>\n",
       "      <td>4</td>\n",
       "    </tr>\n",
       "    <tr>\n",
       "      <th>4</th>\n",
       "      <td>5</td>\n",
       "      <td>47437</td>\n",
       "      <td>100000</td>\n",
       "      <td>6</td>\n",
       "      <td>0</td>\n",
       "      <td>12</td>\n",
       "      <td>3</td>\n",
       "    </tr>\n",
       "    <tr>\n",
       "      <th>...</th>\n",
       "      <td>...</td>\n",
       "      <td>...</td>\n",
       "      <td>...</td>\n",
       "      <td>...</td>\n",
       "      <td>...</td>\n",
       "      <td>...</td>\n",
       "      <td>...</td>\n",
       "    </tr>\n",
       "    <tr>\n",
       "      <th>655</th>\n",
       "      <td>656</td>\n",
       "      <td>51108</td>\n",
       "      <td>99000</td>\n",
       "      <td>10</td>\n",
       "      <td>1</td>\n",
       "      <td>10</td>\n",
       "      <td>0</td>\n",
       "    </tr>\n",
       "    <tr>\n",
       "      <th>656</th>\n",
       "      <td>657</td>\n",
       "      <td>60732</td>\n",
       "      <td>84000</td>\n",
       "      <td>10</td>\n",
       "      <td>1</td>\n",
       "      <td>13</td>\n",
       "      <td>2</td>\n",
       "    </tr>\n",
       "    <tr>\n",
       "      <th>657</th>\n",
       "      <td>658</td>\n",
       "      <td>53834</td>\n",
       "      <td>145000</td>\n",
       "      <td>8</td>\n",
       "      <td>1</td>\n",
       "      <td>9</td>\n",
       "      <td>1</td>\n",
       "    </tr>\n",
       "    <tr>\n",
       "      <th>658</th>\n",
       "      <td>659</td>\n",
       "      <td>80655</td>\n",
       "      <td>172000</td>\n",
       "      <td>10</td>\n",
       "      <td>1</td>\n",
       "      <td>15</td>\n",
       "      <td>0</td>\n",
       "    </tr>\n",
       "    <tr>\n",
       "      <th>659</th>\n",
       "      <td>660</td>\n",
       "      <td>80150</td>\n",
       "      <td>167000</td>\n",
       "      <td>9</td>\n",
       "      <td>0</td>\n",
       "      <td>12</td>\n",
       "      <td>2</td>\n",
       "    </tr>\n",
       "  </tbody>\n",
       "</table>\n",
       "<p>655 rows × 7 columns</p>\n",
       "</div>"
      ],
      "text/plain": [
       "     Sl_No  Customer Key  Avg_Credit_Limit  Total_Credit_Cards  \\\n",
       "0        1         87073            100000                   2   \n",
       "1        2         38414             50000                   3   \n",
       "2        3         17341             50000                   7   \n",
       "3        4         40496             30000                   5   \n",
       "4        5         47437            100000                   6   \n",
       "..     ...           ...               ...                 ...   \n",
       "655    656         51108             99000                  10   \n",
       "656    657         60732             84000                  10   \n",
       "657    658         53834            145000                   8   \n",
       "658    659         80655            172000                  10   \n",
       "659    660         80150            167000                   9   \n",
       "\n",
       "     Total_visits_bank  Total_visits_online  Total_calls_made  \n",
       "0                    1                    1                 0  \n",
       "1                    0                   10                 9  \n",
       "2                    1                    3                 4  \n",
       "3                    1                    1                 4  \n",
       "4                    0                   12                 3  \n",
       "..                 ...                  ...               ...  \n",
       "655                  1                   10                 0  \n",
       "656                  1                   13                 2  \n",
       "657                  1                    9                 1  \n",
       "658                  1                   15                 0  \n",
       "659                  0                   12                 2  \n",
       "\n",
       "[655 rows x 7 columns]"
      ]
     },
     "execution_count": 6,
     "metadata": {},
     "output_type": "execute_result"
    }
   ],
   "source": [
    "# Drop duplicated keys\n",
    "\n",
    "data.drop_duplicates('Customer Key')\n"
   ]
  },
  {
   "cell_type": "markdown",
   "id": "c5c4db9d",
   "metadata": {},
   "source": [
    "\n",
    "<p>We have done some basic checks. Now, let's drop the variables that are not required for our analysis.</p>\n"
   ]
  },
  {
   "cell_type": "code",
   "execution_count": 7,
   "id": "d73cd861",
   "metadata": {
    "execution": {
     "iopub.execute_input": "2025-08-26T15:19:07.920983Z",
     "iopub.status.busy": "2025-08-26T15:19:07.920738Z",
     "iopub.status.idle": "2025-08-26T15:19:07.926480Z",
     "shell.execute_reply": "2025-08-26T15:19:07.925313Z"
    }
   },
   "outputs": [],
   "source": [
    "data.drop(columns = ['Sl_No', 'Customer Key'], inplace = True)\n"
   ]
  },
  {
   "cell_type": "markdown",
   "id": "a90b8c6a",
   "metadata": {},
   "source": [
    "\n",
    "<p>Now that we have dropped unnecessary column. We can again check for duplicates. Duplicates would mean customers with identical features.</p>\n"
   ]
  },
  {
   "cell_type": "code",
   "execution_count": 8,
   "id": "5e44dcd1",
   "metadata": {
    "execution": {
     "iopub.execute_input": "2025-08-26T15:19:07.931430Z",
     "iopub.status.busy": "2025-08-26T15:19:07.930637Z",
     "iopub.status.idle": "2025-08-26T15:19:07.944830Z",
     "shell.execute_reply": "2025-08-26T15:19:07.943813Z"
    }
   },
   "outputs": [
    {
     "data": {
      "text/html": [
       "<div>\n",
       "<style scoped>\n",
       "    .dataframe tbody tr th:only-of-type {\n",
       "        vertical-align: middle;\n",
       "    }\n",
       "\n",
       "    .dataframe tbody tr th {\n",
       "        vertical-align: top;\n",
       "    }\n",
       "\n",
       "    .dataframe thead th {\n",
       "        text-align: right;\n",
       "    }\n",
       "</style>\n",
       "<table border=\"1\" class=\"dataframe\">\n",
       "  <thead>\n",
       "    <tr style=\"text-align: right;\">\n",
       "      <th></th>\n",
       "      <th>Avg_Credit_Limit</th>\n",
       "      <th>Total_Credit_Cards</th>\n",
       "      <th>Total_visits_bank</th>\n",
       "      <th>Total_visits_online</th>\n",
       "      <th>Total_calls_made</th>\n",
       "    </tr>\n",
       "  </thead>\n",
       "  <tbody>\n",
       "    <tr>\n",
       "      <th>162</th>\n",
       "      <td>8000</td>\n",
       "      <td>2</td>\n",
       "      <td>0</td>\n",
       "      <td>3</td>\n",
       "      <td>4</td>\n",
       "    </tr>\n",
       "    <tr>\n",
       "      <th>175</th>\n",
       "      <td>6000</td>\n",
       "      <td>1</td>\n",
       "      <td>0</td>\n",
       "      <td>2</td>\n",
       "      <td>5</td>\n",
       "    </tr>\n",
       "    <tr>\n",
       "      <th>215</th>\n",
       "      <td>8000</td>\n",
       "      <td>4</td>\n",
       "      <td>0</td>\n",
       "      <td>4</td>\n",
       "      <td>7</td>\n",
       "    </tr>\n",
       "    <tr>\n",
       "      <th>295</th>\n",
       "      <td>10000</td>\n",
       "      <td>6</td>\n",
       "      <td>4</td>\n",
       "      <td>2</td>\n",
       "      <td>3</td>\n",
       "    </tr>\n",
       "    <tr>\n",
       "      <th>324</th>\n",
       "      <td>9000</td>\n",
       "      <td>4</td>\n",
       "      <td>5</td>\n",
       "      <td>0</td>\n",
       "      <td>4</td>\n",
       "    </tr>\n",
       "    <tr>\n",
       "      <th>361</th>\n",
       "      <td>18000</td>\n",
       "      <td>6</td>\n",
       "      <td>3</td>\n",
       "      <td>1</td>\n",
       "      <td>4</td>\n",
       "    </tr>\n",
       "    <tr>\n",
       "      <th>378</th>\n",
       "      <td>12000</td>\n",
       "      <td>6</td>\n",
       "      <td>5</td>\n",
       "      <td>2</td>\n",
       "      <td>1</td>\n",
       "    </tr>\n",
       "    <tr>\n",
       "      <th>385</th>\n",
       "      <td>8000</td>\n",
       "      <td>7</td>\n",
       "      <td>4</td>\n",
       "      <td>2</td>\n",
       "      <td>0</td>\n",
       "    </tr>\n",
       "    <tr>\n",
       "      <th>395</th>\n",
       "      <td>5000</td>\n",
       "      <td>4</td>\n",
       "      <td>5</td>\n",
       "      <td>0</td>\n",
       "      <td>1</td>\n",
       "    </tr>\n",
       "    <tr>\n",
       "      <th>455</th>\n",
       "      <td>47000</td>\n",
       "      <td>6</td>\n",
       "      <td>2</td>\n",
       "      <td>0</td>\n",
       "      <td>4</td>\n",
       "    </tr>\n",
       "    <tr>\n",
       "      <th>497</th>\n",
       "      <td>52000</td>\n",
       "      <td>4</td>\n",
       "      <td>2</td>\n",
       "      <td>1</td>\n",
       "      <td>2</td>\n",
       "    </tr>\n",
       "  </tbody>\n",
       "</table>\n",
       "</div>"
      ],
      "text/plain": [
       "     Avg_Credit_Limit  Total_Credit_Cards  Total_visits_bank  \\\n",
       "162              8000                   2                  0   \n",
       "175              6000                   1                  0   \n",
       "215              8000                   4                  0   \n",
       "295             10000                   6                  4   \n",
       "324              9000                   4                  5   \n",
       "361             18000                   6                  3   \n",
       "378             12000                   6                  5   \n",
       "385              8000                   7                  4   \n",
       "395              5000                   4                  5   \n",
       "455             47000                   6                  2   \n",
       "497             52000                   4                  2   \n",
       "\n",
       "     Total_visits_online  Total_calls_made  \n",
       "162                    3                 4  \n",
       "175                    2                 5  \n",
       "215                    4                 7  \n",
       "295                    2                 3  \n",
       "324                    0                 4  \n",
       "361                    1                 4  \n",
       "378                    2                 1  \n",
       "385                    2                 0  \n",
       "395                    0                 1  \n",
       "455                    0                 4  \n",
       "497                    1                 2  "
      ]
     },
     "execution_count": 8,
     "metadata": {},
     "output_type": "execute_result"
    }
   ],
   "source": [
    "data[data.duplicated()]\n"
   ]
  },
  {
   "cell_type": "markdown",
   "id": "533e33bd",
   "metadata": {},
   "source": [
    "\n",
    "<p>We can drop these duplicated rows from the data</p>\n"
   ]
  },
  {
   "cell_type": "code",
   "execution_count": 9,
   "id": "eac8c31d",
   "metadata": {
    "execution": {
     "iopub.execute_input": "2025-08-26T15:19:07.948197Z",
     "iopub.status.busy": "2025-08-26T15:19:07.947885Z",
     "iopub.status.idle": "2025-08-26T15:19:07.953959Z",
     "shell.execute_reply": "2025-08-26T15:19:07.952895Z"
    }
   },
   "outputs": [],
   "source": [
    "data=data[~data.duplicated()]\n"
   ]
  },
  {
   "cell_type": "code",
   "execution_count": 10,
   "id": "c34786e9",
   "metadata": {
    "execution": {
     "iopub.execute_input": "2025-08-26T15:19:07.957386Z",
     "iopub.status.busy": "2025-08-26T15:19:07.956997Z",
     "iopub.status.idle": "2025-08-26T15:19:07.961939Z",
     "shell.execute_reply": "2025-08-26T15:19:07.961327Z"
    }
   },
   "outputs": [
    {
     "data": {
      "text/plain": [
       "(649, 5)"
      ]
     },
     "execution_count": 10,
     "metadata": {},
     "output_type": "execute_result"
    }
   ],
   "source": [
    "data.shape\n"
   ]
  },
  {
   "cell_type": "markdown",
   "id": "09387a5c",
   "metadata": {},
   "source": [
    "\n",
    "<ul>\n",
    "<li>After removing duplicated keys and rows and unnecessary columns, there are 644 unique observations and 5 columns in our data.</li>\n",
    "</ul>\n"
   ]
  },
  {
   "cell_type": "markdown",
   "id": "5a9fd6ad",
   "metadata": {},
   "source": [
    "\n",
    "<h4 id=\"Summary-Statistics\">Summary Statistics<a class=\"anchor-link\" href=\"#Summary-Statistics\">¶</a></h4>\n"
   ]
  },
  {
   "cell_type": "markdown",
   "id": "48e2b615",
   "metadata": {},
   "source": [
    "\n",
    "<h4 id=\"Question-2:-Write-your-observations-on-the-summary-statistics-of-the-data-(1-Mark)\"><strong>Question 2: Write your observations on the summary statistics of the data (1 Mark)</strong><a class=\"anchor-link\" href=\"#Question-2:-Write-your-observations-on-the-summary-statistics-of-the-data-(1-Mark)\">¶</a></h4>\n"
   ]
  },
  {
   "cell_type": "code",
   "execution_count": 11,
   "id": "93053cb6",
   "metadata": {
    "execution": {
     "iopub.execute_input": "2025-08-26T15:19:07.965475Z",
     "iopub.status.busy": "2025-08-26T15:19:07.964924Z",
     "iopub.status.idle": "2025-08-26T15:19:07.993404Z",
     "shell.execute_reply": "2025-08-26T15:19:07.992809Z"
    }
   },
   "outputs": [
    {
     "data": {
      "text/html": [
       "<div>\n",
       "<style scoped>\n",
       "    .dataframe tbody tr th:only-of-type {\n",
       "        vertical-align: middle;\n",
       "    }\n",
       "\n",
       "    .dataframe tbody tr th {\n",
       "        vertical-align: top;\n",
       "    }\n",
       "\n",
       "    .dataframe thead th {\n",
       "        text-align: right;\n",
       "    }\n",
       "</style>\n",
       "<table border=\"1\" class=\"dataframe\">\n",
       "  <thead>\n",
       "    <tr style=\"text-align: right;\">\n",
       "      <th></th>\n",
       "      <th>count</th>\n",
       "      <th>mean</th>\n",
       "      <th>std</th>\n",
       "      <th>min</th>\n",
       "      <th>25%</th>\n",
       "      <th>50%</th>\n",
       "      <th>75%</th>\n",
       "      <th>max</th>\n",
       "    </tr>\n",
       "  </thead>\n",
       "  <tbody>\n",
       "    <tr>\n",
       "      <th>Avg_Credit_Limit</th>\n",
       "      <td>649.0</td>\n",
       "      <td>34878.274268</td>\n",
       "      <td>37813.736638</td>\n",
       "      <td>3000.0</td>\n",
       "      <td>11000.0</td>\n",
       "      <td>18000.0</td>\n",
       "      <td>49000.0</td>\n",
       "      <td>200000.0</td>\n",
       "    </tr>\n",
       "    <tr>\n",
       "      <th>Total_Credit_Cards</th>\n",
       "      <td>649.0</td>\n",
       "      <td>4.708783</td>\n",
       "      <td>2.173763</td>\n",
       "      <td>1.0</td>\n",
       "      <td>3.0</td>\n",
       "      <td>5.0</td>\n",
       "      <td>6.0</td>\n",
       "      <td>10.0</td>\n",
       "    </tr>\n",
       "    <tr>\n",
       "      <th>Total_visits_bank</th>\n",
       "      <td>649.0</td>\n",
       "      <td>2.397535</td>\n",
       "      <td>1.625148</td>\n",
       "      <td>0.0</td>\n",
       "      <td>1.0</td>\n",
       "      <td>2.0</td>\n",
       "      <td>4.0</td>\n",
       "      <td>5.0</td>\n",
       "    </tr>\n",
       "    <tr>\n",
       "      <th>Total_visits_online</th>\n",
       "      <td>649.0</td>\n",
       "      <td>2.624037</td>\n",
       "      <td>2.952888</td>\n",
       "      <td>0.0</td>\n",
       "      <td>1.0</td>\n",
       "      <td>2.0</td>\n",
       "      <td>4.0</td>\n",
       "      <td>15.0</td>\n",
       "    </tr>\n",
       "    <tr>\n",
       "      <th>Total_calls_made</th>\n",
       "      <td>649.0</td>\n",
       "      <td>3.590139</td>\n",
       "      <td>2.877911</td>\n",
       "      <td>0.0</td>\n",
       "      <td>1.0</td>\n",
       "      <td>3.0</td>\n",
       "      <td>5.0</td>\n",
       "      <td>10.0</td>\n",
       "    </tr>\n",
       "  </tbody>\n",
       "</table>\n",
       "</div>"
      ],
      "text/plain": [
       "                     count          mean           std     min      25%  \\\n",
       "Avg_Credit_Limit     649.0  34878.274268  37813.736638  3000.0  11000.0   \n",
       "Total_Credit_Cards   649.0      4.708783      2.173763     1.0      3.0   \n",
       "Total_visits_bank    649.0      2.397535      1.625148     0.0      1.0   \n",
       "Total_visits_online  649.0      2.624037      2.952888     0.0      1.0   \n",
       "Total_calls_made     649.0      3.590139      2.877911     0.0      1.0   \n",
       "\n",
       "                         50%      75%       max  \n",
       "Avg_Credit_Limit     18000.0  49000.0  200000.0  \n",
       "Total_Credit_Cards       5.0      6.0      10.0  \n",
       "Total_visits_bank        2.0      4.0       5.0  \n",
       "Total_visits_online      2.0      4.0      15.0  \n",
       "Total_calls_made         3.0      5.0      10.0  "
      ]
     },
     "execution_count": 11,
     "metadata": {},
     "output_type": "execute_result"
    }
   ],
   "source": [
    "data.describe().T\n"
   ]
  },
  {
   "cell_type": "markdown",
   "id": "28310fc1",
   "metadata": {},
   "source": [
    "\n",
    "<p><strong>Observations:<strong><strong>___</strong></strong></strong></p>\n"
   ]
  },
  {
   "cell_type": "markdown",
   "id": "79760626",
   "metadata": {},
   "source": [
    "\n",
    "<h4 id=\"Now-let's-go-ahead-with-the-exploring-each-variable-at-hand.-We-will-check-the-distribution-and-outliers-for-each-variable-in-the-data.\">Now let's go ahead with the exploring each variable at hand. We will check the distribution and outliers for each variable in the data.<a class=\"anchor-link\" href=\"#Now-let's-go-ahead-with-the-exploring-each-variable-at-hand.-We-will-check-the-distribution-and-outliers-for-each-variable-in-the-data.\">¶</a></h4>\n"
   ]
  },
  {
   "cell_type": "markdown",
   "id": "eb77ce61",
   "metadata": {},
   "source": [
    "\n",
    "<h4 id=\"Question-3:\">Question 3:<a class=\"anchor-link\" href=\"#Question-3:\">¶</a></h4><ul>\n",
    "<li><strong>Check the distribution of all variables (use .hist() attribute) (2 Marks)</strong></li>\n",
    "<li><strong>Check outliers for all variables (use sns.boxplot()) (2 Mark)</strong></li>\n",
    "<li><strong>Write your observations (1 Marks)</strong></li>\n",
    "</ul>\n"
   ]
  },
  {
   "cell_type": "code",
   "execution_count": 12,
   "id": "bf9a9080",
   "metadata": {
    "execution": {
     "iopub.execute_input": "2025-08-26T15:19:07.996846Z",
     "iopub.status.busy": "2025-08-26T15:19:07.996515Z",
     "iopub.status.idle": "2025-08-26T15:19:10.418879Z",
     "shell.execute_reply": "2025-08-26T15:19:10.417085Z"
    }
   },
   "outputs": [
    {
     "name": "stdout",
     "output_type": "stream",
     "text": [
      "Avg_Credit_Limit\n",
      "Skew : 2.19\n"
     ]
    },
    {
     "data": {
      "image/png": "[encoded data removed]",
      "text/plain": [
       "<Figure size 1500x400 with 2 Axes>"
      ]
     },
     "metadata": {},
     "output_type": "display_data"
    },
    {
     "name": "stdout",
     "output_type": "stream",
     "text": [
      "Total_Credit_Cards\n",
      "Skew : 0.15\n"
     ]
    },
    {
     "data": {
      "image/png": "[encoded data removed]",
      "text/plain": [
       "<Figure size 1500x400 with 2 Axes>"
      ]
     },
     "metadata": {},
     "output_type": "display_data"
    },
    {
     "name": "stdout",
     "output_type": "stream",
     "text": [
      "Total_visits_bank\n",
      "Skew : 0.15\n"
     ]
    },
    {
     "data": {
      "image/png": "[encoded data removed]",
      "text/plain": [
       "<Figure size 1500x400 with 2 Axes>"
      ]
     },
     "metadata": {},
     "output_type": "display_data"
    },
    {
     "name": "stdout",
     "output_type": "stream",
     "text": [
      "Total_visits_online\n",
      "Skew : 2.21\n"
     ]
    },
    {
     "data": {
      "image/png": "[encoded data removed]",
      "text/plain": [
       "<Figure size 1500x400 with 2 Axes>"
      ]
     },
     "metadata": {},
     "output_type": "display_data"
    },
    {
     "name": "stdout",
     "output_type": "stream",
     "text": [
      "Total_calls_made\n",
      "Skew : 0.66\n"
     ]
    },
    {
     "data": {
      "image/png": "[encoded data removed]",
      "text/plain": [
       "<Figure size 1500x400 with 2 Axes>"
      ]
     },
     "metadata": {},
     "output_type": "display_data"
    }
   ],
   "source": [
    "# Uncomment and complete the code by filling the blanks \n",
    "\n",
    "for col in data.columns:\n",
    "    print(col)\n",
    "    print('Skew :',round(data[col].skew(),2))\n",
    "    plt.figure(figsize=(15,4))\n",
    "    plt.subplot(1,2,1)\n",
    "    data[col].hist()\n",
    "    plt.ylabel('count')\n",
    "    plt.subplot(1,2,2)\n",
    "    sns.boxplot(x=data[col])\n",
    "    plt.show()\n"
   ]
  },
  {
   "cell_type": "markdown",
   "id": "5604b1ff",
   "metadata": {},
   "source": [
    "\n",
    "<p><strong>Observation:<strong><strong><strong>__</strong></strong></strong></strong></p>\n"
   ]
  },
  {
   "cell_type": "markdown",
   "id": "068bf75b",
   "metadata": {},
   "source": [
    "\n",
    "<p><strong>Now, let's check the correlation among different variables.</strong></p>\n"
   ]
  },
  {
   "cell_type": "code",
   "execution_count": 13,
   "id": "7d29c09e",
   "metadata": {
    "execution": {
     "iopub.execute_input": "2025-08-26T15:19:10.422549Z",
     "iopub.status.busy": "2025-08-26T15:19:10.422141Z",
     "iopub.status.idle": "2025-08-26T15:19:10.936215Z",
     "shell.execute_reply": "2025-08-26T15:19:10.935446Z"
    }
   },
   "outputs": [
    {
     "data": {
      "image/png": "[encoded data removed]",
      "text/plain": [
       "<Figure size 800x800 with 2 Axes>"
      ]
     },
     "metadata": {},
     "output_type": "display_data"
    }
   ],
   "source": [
    "plt.figure(figsize=(8,8))\n",
    "sns.heatmap(data.corr(numeric_only=True), annot=True, fmt='0.2f')\n",
    "plt.show()\n"
   ]
  },
  {
   "cell_type": "markdown",
   "id": "41f39b0b",
   "metadata": {},
   "source": [
    "\n",
    "<p><strong>Observation:</strong></p>\n",
    "<ul>\n",
    "<li>Avg_Credit_Limit is positively correlated with Total_Credit_Cards Total_visits_online which can makes sense.</li>\n",
    "<li>Avg_Credit_Limit is negatively correlated with Total_calls_made and Total_visits_bank.</li>\n",
    "<li>Total_visits_bank, Total_visits_online, Total_calls_made are negatively correlated which implies that majority of customers use only one of these channels to contact the bank.</li>\n",
    "</ul>\n"
   ]
  },
  {
   "cell_type": "markdown",
   "id": "38eeecb9",
   "metadata": {},
   "source": [
    "\n",
    "<h4 id=\"Scaling-the-data\">Scaling the data<a class=\"anchor-link\" href=\"#Scaling-the-data\">¶</a></h4>\n"
   ]
  },
  {
   "cell_type": "code",
   "execution_count": 14,
   "id": "85fd049c",
   "metadata": {
    "execution": {
     "iopub.execute_input": "2025-08-26T15:19:10.939198Z",
     "iopub.status.busy": "2025-08-26T15:19:10.938882Z",
     "iopub.status.idle": "2025-08-26T15:19:10.947489Z",
     "shell.execute_reply": "2025-08-26T15:19:10.946793Z"
    }
   },
   "outputs": [],
   "source": [
    "scaler=StandardScaler()\n",
    "data_scaled=pd.DataFrame(scaler.fit_transform(data), columns=data.columns)\n"
   ]
  },
  {
   "cell_type": "code",
   "execution_count": 15,
   "id": "7bfa84b3",
   "metadata": {
    "execution": {
     "iopub.execute_input": "2025-08-26T15:19:10.950481Z",
     "iopub.status.busy": "2025-08-26T15:19:10.950150Z",
     "iopub.status.idle": "2025-08-26T15:19:10.960759Z",
     "shell.execute_reply": "2025-08-26T15:19:10.959857Z"
    }
   },
   "outputs": [
    {
     "data": {
      "text/html": [
       "<div>\n",
       "<style scoped>\n",
       "    .dataframe tbody tr th:only-of-type {\n",
       "        vertical-align: middle;\n",
       "    }\n",
       "\n",
       "    .dataframe tbody tr th {\n",
       "        vertical-align: top;\n",
       "    }\n",
       "\n",
       "    .dataframe thead th {\n",
       "        text-align: right;\n",
       "    }\n",
       "</style>\n",
       "<table border=\"1\" class=\"dataframe\">\n",
       "  <thead>\n",
       "    <tr style=\"text-align: right;\">\n",
       "      <th></th>\n",
       "      <th>Avg_Credit_Limit</th>\n",
       "      <th>Total_Credit_Cards</th>\n",
       "      <th>Total_visits_bank</th>\n",
       "      <th>Total_visits_online</th>\n",
       "      <th>Total_calls_made</th>\n",
       "    </tr>\n",
       "  </thead>\n",
       "  <tbody>\n",
       "    <tr>\n",
       "      <th>0</th>\n",
       "      <td>1.723499</td>\n",
       "      <td>-1.247087</td>\n",
       "      <td>-0.860606</td>\n",
       "      <td>-0.550407</td>\n",
       "      <td>-1.248443</td>\n",
       "    </tr>\n",
       "    <tr>\n",
       "      <th>1</th>\n",
       "      <td>0.400209</td>\n",
       "      <td>-0.786701</td>\n",
       "      <td>-1.476410</td>\n",
       "      <td>2.499808</td>\n",
       "      <td>1.881237</td>\n",
       "    </tr>\n",
       "    <tr>\n",
       "      <th>2</th>\n",
       "      <td>0.400209</td>\n",
       "      <td>1.054846</td>\n",
       "      <td>-0.860606</td>\n",
       "      <td>0.127419</td>\n",
       "      <td>0.142526</td>\n",
       "    </tr>\n",
       "    <tr>\n",
       "      <th>3</th>\n",
       "      <td>-0.129107</td>\n",
       "      <td>0.134072</td>\n",
       "      <td>-0.860606</td>\n",
       "      <td>-0.550407</td>\n",
       "      <td>0.142526</td>\n",
       "    </tr>\n",
       "    <tr>\n",
       "      <th>4</th>\n",
       "      <td>1.723499</td>\n",
       "      <td>0.594459</td>\n",
       "      <td>-1.476410</td>\n",
       "      <td>3.177634</td>\n",
       "      <td>-0.205216</td>\n",
       "    </tr>\n",
       "  </tbody>\n",
       "</table>\n",
       "</div>"
      ],
      "text/plain": [
       "   Avg_Credit_Limit  Total_Credit_Cards  Total_visits_bank  \\\n",
       "0          1.723499           -1.247087          -0.860606   \n",
       "1          0.400209           -0.786701          -1.476410   \n",
       "2          0.400209            1.054846          -0.860606   \n",
       "3         -0.129107            0.134072          -0.860606   \n",
       "4          1.723499            0.594459          -1.476410   \n",
       "\n",
       "   Total_visits_online  Total_calls_made  \n",
       "0            -0.550407         -1.248443  \n",
       "1             2.499808          1.881237  \n",
       "2             0.127419          0.142526  \n",
       "3            -0.550407          0.142526  \n",
       "4             3.177634         -0.205216  "
      ]
     },
     "execution_count": 15,
     "metadata": {},
     "output_type": "execute_result"
    }
   ],
   "source": [
    "data_scaled.head()\n"
   ]
  },
  {
   "cell_type": "code",
   "execution_count": 16,
   "id": "315db3b9",
   "metadata": {
    "execution": {
     "iopub.execute_input": "2025-08-26T15:19:10.963702Z",
     "iopub.status.busy": "2025-08-26T15:19:10.963407Z",
     "iopub.status.idle": "2025-08-26T15:19:10.966683Z",
     "shell.execute_reply": "2025-08-26T15:19:10.966092Z"
    }
   },
   "outputs": [],
   "source": [
    "#Creating copy of the data to store labels from each algorithm\n",
    "data_scaled_copy = data_scaled.copy(deep=True)\n"
   ]
  },
  {
   "cell_type": "markdown",
   "id": "801f63ea",
   "metadata": {},
   "source": [
    "\n",
    "<h2 id=\"K-Means\">K-Means<a class=\"anchor-link\" href=\"#K-Means\">¶</a></h2>\n"
   ]
  },
  {
   "cell_type": "markdown",
   "id": "89577e7a",
   "metadata": {},
   "source": [
    "\n",
    "<p>Let us now fit k-means algorithm on our scaled data and find out the optimum number of clusters to use.</p>\n",
    "<p>We will do this in 3 steps:</p>\n",
    "<ol>\n",
    "<li>Initialize a dictionary to store the SSE for each k</li>\n",
    "<li>Run for a range of Ks and store SSE for each run</li>\n",
    "<li>Plot the SSE vs K and find the elbow</li>\n",
    "</ol>\n"
   ]
  },
  {
   "cell_type": "code",
   "execution_count": 17,
   "id": "facfd077",
   "metadata": {
    "execution": {
     "iopub.execute_input": "2025-08-26T15:19:10.969700Z",
     "iopub.status.busy": "2025-08-26T15:19:10.969402Z",
     "iopub.status.idle": "2025-08-26T15:19:12.058247Z",
     "shell.execute_reply": "2025-08-26T15:19:12.055245Z"
    }
   },
   "outputs": [
    {
     "data": {
      "image/png": "[encoded data removed]",
      "text/plain": [
       "<Figure size 640x480 with 1 Axes>"
      ]
     },
     "metadata": {},
     "output_type": "display_data"
    }
   ],
   "source": [
    "# step 1\n",
    "sse = {} \n",
    "\n",
    "# step 2 - iterate for a range of Ks and fit the scaled data to the algorithm. Use inertia attribute from the clustering object and \n",
    "# store the inertia value for that k \n",
    "for k in range(1, 10):\n",
    "    kmeans = KMeans(n_clusters=k, max_iter=1000, random_state=1).fit(data_scaled)\n",
    "    sse[k] = kmeans.inertia_\n",
    "\n",
    "# step 3\n",
    "plt.figure()\n",
    "plt.plot(list(sse.keys()), list(sse.values()), 'bx-')\n",
    "plt.xlabel(\"Number of cluster\")\n",
    "plt.ylabel(\"SSE\")\n",
    "plt.show()\n"
   ]
  },
  {
   "cell_type": "markdown",
   "id": "f8d3b771",
   "metadata": {},
   "source": [
    "\n",
    "<ul>\n",
    "<li>Looking at the plot, we can say that elbow point is achieved for k=3.</li>\n",
    "<li>We will fit the k-means again with k=3 to get the labels.</li>\n",
    "</ul>\n"
   ]
  },
  {
   "cell_type": "markdown",
   "id": "2f22fafb",
   "metadata": {},
   "source": [
    "\n",
    "<h4 id=\"Question-4:\">Question 4:<a class=\"anchor-link\" href=\"#Question-4:\">¶</a></h4><ul>\n",
    "<li><strong>From the above elbow plot, state the reason for choosing k=3 and with random_state=1(1 Mark)</strong></li>\n",
    "<li><strong>Fit the K-means algorithms on the scaled data with number of cluster equal to 3 (2 Mark)</strong></li>\n",
    "<li><strong>Store the predictions as 'Labels' to the 'data_scaled_copy' and 'data' dataframes (2 Marks)</strong></li>\n",
    "</ul>\n"
   ]
  },
  {
   "cell_type": "code",
   "execution_count": 18,
   "id": "26701c53",
   "metadata": {
    "execution": {
     "iopub.execute_input": "2025-08-26T15:19:12.063926Z",
     "iopub.status.busy": "2025-08-26T15:19:12.063360Z",
     "iopub.status.idle": "2025-08-26T15:19:12.118103Z",
     "shell.execute_reply": "2025-08-26T15:19:12.117187Z"
    }
   },
   "outputs": [],
   "source": [
    "kmeans = KMeans(n_clusters=3, random_state=1)\n",
    "kmeans.fit(data_scaled)\n",
    "\n",
    "data_scaled_copy['Labels'] = kmeans.predict(data_scaled)\n",
    "data['Labels'] = kmeans.predict(data_scaled)\n"
   ]
  },
  {
   "cell_type": "markdown",
   "id": "1f1a2200",
   "metadata": {},
   "source": [
    "\n",
    "<p>We have generated the labels with k-means. Let us look at the various features based on the labels.</p>\n"
   ]
  },
  {
   "cell_type": "markdown",
   "id": "345bc16e",
   "metadata": {},
   "source": [
    "\n",
    "<h4 id=\"Question-5:-Create-cluster-profiles-using-the-below-summary-statistics-and-box-plots-for-each-label-(6-Marks)\"><strong>Question 5: Create cluster profiles using the below summary statistics and box plots for each label (6 Marks)</strong><a class=\"anchor-link\" href=\"#Question-5:-Create-cluster-profiles-using-the-below-summary-statistics-and-box-plots-for-each-label-(6-Marks)\">¶</a></h4>\n"
   ]
  },
  {
   "cell_type": "code",
   "execution_count": 19,
   "id": "e3adca7c",
   "metadata": {
    "execution": {
     "iopub.execute_input": "2025-08-26T15:19:12.122289Z",
     "iopub.status.busy": "2025-08-26T15:19:12.121863Z",
     "iopub.status.idle": "2025-08-26T15:19:12.131559Z",
     "shell.execute_reply": "2025-08-26T15:19:12.130514Z"
    }
   },
   "outputs": [
    {
     "data": {
      "text/plain": [
       "Labels\n",
       "0    378\n",
       "1    221\n",
       "2     50\n",
       "Name: count, dtype: int64"
      ]
     },
     "execution_count": 19,
     "metadata": {},
     "output_type": "execute_result"
    }
   ],
   "source": [
    "#Number of observations in each cluster\n",
    "data.Labels.value_counts()\n"
   ]
  },
  {
   "cell_type": "code",
   "execution_count": 20,
   "id": "55b3f551",
   "metadata": {
    "execution": {
     "iopub.execute_input": "2025-08-26T15:19:12.135040Z",
     "iopub.status.busy": "2025-08-26T15:19:12.134668Z",
     "iopub.status.idle": "2025-08-26T15:19:12.155561Z",
     "shell.execute_reply": "2025-08-26T15:19:12.154700Z"
    }
   },
   "outputs": [
    {
     "data": {
      "text/html": [
       "<div>\n",
       "<style scoped>\n",
       "    .dataframe tbody tr th:only-of-type {\n",
       "        vertical-align: middle;\n",
       "    }\n",
       "\n",
       "    .dataframe tbody tr th {\n",
       "        vertical-align: top;\n",
       "    }\n",
       "\n",
       "    .dataframe thead th {\n",
       "        text-align: right;\n",
       "    }\n",
       "</style>\n",
       "<table border=\"1\" class=\"dataframe\">\n",
       "  <thead>\n",
       "    <tr style=\"text-align: right;\">\n",
       "      <th></th>\n",
       "      <th>group_0 Mean</th>\n",
       "      <th>group_1 Mean</th>\n",
       "      <th>group_2 Mean</th>\n",
       "      <th>group_0 Median</th>\n",
       "      <th>group_1 Median</th>\n",
       "      <th>group_2 Median</th>\n",
       "    </tr>\n",
       "  </thead>\n",
       "  <tbody>\n",
       "    <tr>\n",
       "      <th>Avg_Credit_Limit</th>\n",
       "      <td>34071.428571</td>\n",
       "      <td>12239.819005</td>\n",
       "      <td>141040.00</td>\n",
       "      <td>32000.0</td>\n",
       "      <td>12000.0</td>\n",
       "      <td>145500.0</td>\n",
       "    </tr>\n",
       "    <tr>\n",
       "      <th>Total_Credit_Cards</th>\n",
       "      <td>5.518519</td>\n",
       "      <td>2.411765</td>\n",
       "      <td>8.74</td>\n",
       "      <td>6.0</td>\n",
       "      <td>2.0</td>\n",
       "      <td>9.0</td>\n",
       "    </tr>\n",
       "    <tr>\n",
       "      <th>Total_visits_bank</th>\n",
       "      <td>3.484127</td>\n",
       "      <td>0.945701</td>\n",
       "      <td>0.60</td>\n",
       "      <td>3.0</td>\n",
       "      <td>1.0</td>\n",
       "      <td>1.0</td>\n",
       "    </tr>\n",
       "    <tr>\n",
       "      <th>Total_visits_online</th>\n",
       "      <td>0.981481</td>\n",
       "      <td>3.561086</td>\n",
       "      <td>10.90</td>\n",
       "      <td>1.0</td>\n",
       "      <td>4.0</td>\n",
       "      <td>11.0</td>\n",
       "    </tr>\n",
       "    <tr>\n",
       "      <th>Total_calls_made</th>\n",
       "      <td>1.992063</td>\n",
       "      <td>6.891403</td>\n",
       "      <td>1.08</td>\n",
       "      <td>2.0</td>\n",
       "      <td>7.0</td>\n",
       "      <td>1.0</td>\n",
       "    </tr>\n",
       "  </tbody>\n",
       "</table>\n",
       "</div>"
      ],
      "text/plain": [
       "                     group_0 Mean  group_1 Mean  group_2 Mean  group_0 Median  \\\n",
       "Avg_Credit_Limit     34071.428571  12239.819005     141040.00         32000.0   \n",
       "Total_Credit_Cards       5.518519      2.411765          8.74             6.0   \n",
       "Total_visits_bank        3.484127      0.945701          0.60             3.0   \n",
       "Total_visits_online      0.981481      3.561086         10.90             1.0   \n",
       "Total_calls_made         1.992063      6.891403          1.08             2.0   \n",
       "\n",
       "                     group_1 Median  group_2 Median  \n",
       "Avg_Credit_Limit            12000.0        145500.0  \n",
       "Total_Credit_Cards              2.0             9.0  \n",
       "Total_visits_bank               1.0             1.0  \n",
       "Total_visits_online             4.0            11.0  \n",
       "Total_calls_made                7.0             1.0  "
      ]
     },
     "execution_count": 20,
     "metadata": {},
     "output_type": "execute_result"
    }
   ],
   "source": [
    "#Calculating summary statistics of the original data for each label\n",
    "mean = data.groupby('Labels').mean()\n",
    "median = data.groupby('Labels').median()\n",
    "df_kmeans = pd.concat([mean, median], axis=0)\n",
    "df_kmeans.index = ['group_0 Mean', 'group_1 Mean', 'group_2 Mean', 'group_0 Median', 'group_1 Median', 'group_2 Median']\n",
    "df_kmeans.T\n"
   ]
  },
  {
   "cell_type": "code",
   "execution_count": 21,
   "id": "037503e7",
   "metadata": {
    "execution": {
     "iopub.execute_input": "2025-08-26T15:19:12.159514Z",
     "iopub.status.busy": "2025-08-26T15:19:12.159060Z",
     "iopub.status.idle": "2025-08-26T15:19:13.280834Z",
     "shell.execute_reply": "2025-08-26T15:19:13.280093Z"
    }
   },
   "outputs": [
    {
     "data": {
      "image/png": "[encoded data removed]",
      "text/plain": [
       "<Figure size 2000x700 with 5 Axes>"
      ]
     },
     "metadata": {},
     "output_type": "display_data"
    }
   ],
   "source": [
    "#Visualizing different features w.r.t K-means labels\n",
    "data_scaled_copy.boxplot(by = 'Labels', layout = (1,5),figsize=(20,7))\n",
    "plt.show()\n"
   ]
  },
  {
   "cell_type": "markdown",
   "id": "62c38caa",
   "metadata": {},
   "source": [
    "\n",
    "<p><strong>Cluster Profiles:<strong><strong><strong>___</strong></strong></strong></strong></p>\n"
   ]
  },
  {
   "cell_type": "markdown",
   "id": "e2efa021",
   "metadata": {},
   "source": [
    "\n",
    "<h2 id=\"Gaussian-Mixture\">Gaussian Mixture<a class=\"anchor-link\" href=\"#Gaussian-Mixture\">¶</a></h2>\n"
   ]
  },
  {
   "cell_type": "markdown",
   "id": "b958be72",
   "metadata": {},
   "source": [
    "\n",
    "<p>Let's create clusters using Gaussian Mixture Models</p>\n"
   ]
  },
  {
   "cell_type": "markdown",
   "id": "73928425",
   "metadata": {},
   "source": [
    "\n",
    "<h4 id=\"Question-6:\">Question 6:<a class=\"anchor-link\" href=\"#Question-6:\">¶</a></h4><ul>\n",
    "<li><strong>Apply the Gaussian Mixture algorithm on the scaled data with random_state=1 (2 Marks)</strong> </li>\n",
    "<li><strong>Create cluster profiles using the below summary statistics and box plots for each label (2 Marks)</strong></li>\n",
    "<li><strong>Compare the clusters from both algorithms - K-means and Gaussian Mixture (1 Mark)</strong></li>\n",
    "</ul>\n"
   ]
  },
  {
   "cell_type": "code",
   "execution_count": 22,
   "id": "8c2be607",
   "metadata": {
    "execution": {
     "iopub.execute_input": "2025-08-26T15:19:13.283850Z",
     "iopub.status.busy": "2025-08-26T15:19:13.283520Z",
     "iopub.status.idle": "2025-08-26T15:19:13.302194Z",
     "shell.execute_reply": "2025-08-26T15:19:13.301300Z"
    }
   },
   "outputs": [],
   "source": [
    "gmm = GaussianMixture(n_components = 3, random_state = 1)#Apply the Gaussian Mixture algorith\n",
    "gmm.fit(data_scaled)#Fit the gmm function on the scaled data\n",
    "\n",
    "data_scaled_copy['GmmLabels'] = gmm.predict(data_scaled)\n",
    "data['GmmLabels'] = gmm.predict(data_scaled)\n"
   ]
  },
  {
   "cell_type": "code",
   "execution_count": 23,
   "id": "d5679693",
   "metadata": {
    "execution": {
     "iopub.execute_input": "2025-08-26T15:19:13.305793Z",
     "iopub.status.busy": "2025-08-26T15:19:13.305453Z",
     "iopub.status.idle": "2025-08-26T15:19:13.312870Z",
     "shell.execute_reply": "2025-08-26T15:19:13.311960Z"
    }
   },
   "outputs": [
    {
     "data": {
      "text/plain": [
       "GmmLabels\n",
       "0    378\n",
       "1    221\n",
       "2     50\n",
       "Name: count, dtype: int64"
      ]
     },
     "execution_count": 23,
     "metadata": {},
     "output_type": "execute_result"
    }
   ],
   "source": [
    "#Number of observations in each cluster\n",
    "data.GmmLabels.value_counts()\n"
   ]
  },
  {
   "cell_type": "code",
   "execution_count": 24,
   "id": "613f523b",
   "metadata": {
    "execution": {
     "iopub.execute_input": "2025-08-26T15:19:13.316177Z",
     "iopub.status.busy": "2025-08-26T15:19:13.315869Z",
     "iopub.status.idle": "2025-08-26T15:19:13.335479Z",
     "shell.execute_reply": "2025-08-26T15:19:13.334438Z"
    }
   },
   "outputs": [
    {
     "data": {
      "text/html": [
       "<div>\n",
       "<style scoped>\n",
       "    .dataframe tbody tr th:only-of-type {\n",
       "        vertical-align: middle;\n",
       "    }\n",
       "\n",
       "    .dataframe tbody tr th {\n",
       "        vertical-align: top;\n",
       "    }\n",
       "\n",
       "    .dataframe thead th {\n",
       "        text-align: right;\n",
       "    }\n",
       "</style>\n",
       "<table border=\"1\" class=\"dataframe\">\n",
       "  <thead>\n",
       "    <tr style=\"text-align: right;\">\n",
       "      <th></th>\n",
       "      <th>group_0 Mean</th>\n",
       "      <th>group_1 Mean</th>\n",
       "      <th>group_2 Mean</th>\n",
       "      <th>group_0 Median</th>\n",
       "      <th>group_1 Median</th>\n",
       "      <th>group_2 Median</th>\n",
       "    </tr>\n",
       "  </thead>\n",
       "  <tbody>\n",
       "    <tr>\n",
       "      <th>Avg_Credit_Limit</th>\n",
       "      <td>34071.428571</td>\n",
       "      <td>12239.819005</td>\n",
       "      <td>141040.00</td>\n",
       "      <td>32000.0</td>\n",
       "      <td>12000.0</td>\n",
       "      <td>145500.0</td>\n",
       "    </tr>\n",
       "    <tr>\n",
       "      <th>Total_Credit_Cards</th>\n",
       "      <td>5.518519</td>\n",
       "      <td>2.411765</td>\n",
       "      <td>8.74</td>\n",
       "      <td>6.0</td>\n",
       "      <td>2.0</td>\n",
       "      <td>9.0</td>\n",
       "    </tr>\n",
       "    <tr>\n",
       "      <th>Total_visits_bank</th>\n",
       "      <td>3.484127</td>\n",
       "      <td>0.945701</td>\n",
       "      <td>0.60</td>\n",
       "      <td>3.0</td>\n",
       "      <td>1.0</td>\n",
       "      <td>1.0</td>\n",
       "    </tr>\n",
       "    <tr>\n",
       "      <th>Total_visits_online</th>\n",
       "      <td>0.981481</td>\n",
       "      <td>3.561086</td>\n",
       "      <td>10.90</td>\n",
       "      <td>1.0</td>\n",
       "      <td>4.0</td>\n",
       "      <td>11.0</td>\n",
       "    </tr>\n",
       "    <tr>\n",
       "      <th>Total_calls_made</th>\n",
       "      <td>1.992063</td>\n",
       "      <td>6.891403</td>\n",
       "      <td>1.08</td>\n",
       "      <td>2.0</td>\n",
       "      <td>7.0</td>\n",
       "      <td>1.0</td>\n",
       "    </tr>\n",
       "  </tbody>\n",
       "</table>\n",
       "</div>"
      ],
      "text/plain": [
       "                     group_0 Mean  group_1 Mean  group_2 Mean  group_0 Median  \\\n",
       "Avg_Credit_Limit     34071.428571  12239.819005     141040.00         32000.0   \n",
       "Total_Credit_Cards       5.518519      2.411765          8.74             6.0   \n",
       "Total_visits_bank        3.484127      0.945701          0.60             3.0   \n",
       "Total_visits_online      0.981481      3.561086         10.90             1.0   \n",
       "Total_calls_made         1.992063      6.891403          1.08             2.0   \n",
       "\n",
       "                     group_1 Median  group_2 Median  \n",
       "Avg_Credit_Limit            12000.0        145500.0  \n",
       "Total_Credit_Cards              2.0             9.0  \n",
       "Total_visits_bank               1.0             1.0  \n",
       "Total_visits_online             4.0            11.0  \n",
       "Total_calls_made                7.0             1.0  "
      ]
     },
     "execution_count": 24,
     "metadata": {},
     "output_type": "execute_result"
    }
   ],
   "source": [
    "#Calculating summary statistics of the original data for each label\n",
    "original_features = [\"Avg_Credit_Limit\",\"Total_Credit_Cards\",\"Total_visits_bank\",\"Total_visits_online\",\"Total_calls_made\"]\n",
    "\n",
    "mean = data.groupby('GmmLabels').mean()\n",
    "median = data.groupby('GmmLabels').median()\n",
    "df_gmm = pd.concat([mean, median], axis=0)\n",
    "df_gmm.index = ['group_0 Mean', 'group_1 Mean', 'group_2 Mean', 'group_0 Median', 'group_1 Median', 'group_2 Median']\n",
    "df_gmm[original_features].T\n"
   ]
  },
  {
   "cell_type": "code",
   "execution_count": 25,
   "id": "2ede4711",
   "metadata": {
    "execution": {
     "iopub.execute_input": "2025-08-26T15:19:13.338811Z",
     "iopub.status.busy": "2025-08-26T15:19:13.338485Z",
     "iopub.status.idle": "2025-08-26T15:19:14.460014Z",
     "shell.execute_reply": "2025-08-26T15:19:14.459369Z"
    }
   },
   "outputs": [
    {
     "data": {
      "image/png": "[encoded data removed]",
      "text/plain": [
       "<Figure size 2000x700 with 5 Axes>"
      ]
     },
     "metadata": {},
     "output_type": "display_data"
    }
   ],
   "source": [
    "# plotting boxplots with the new GMM based labels\n",
    "\n",
    "features_with_lables = [\"Avg_Credit_Limit\",\"Total_Credit_Cards\",\"Total_visits_bank\",\"Total_visits_online\",\"Total_calls_made\",\"GmmLabels\"]\n",
    "\n",
    "data_scaled_copy[features_with_lables].boxplot(by = 'GmmLabels', layout = (1,5),figsize=(20,7))\n",
    "plt.show()\n"
   ]
  },
  {
   "cell_type": "markdown",
   "id": "f152cae8",
   "metadata": {},
   "source": [
    "\n",
    "<p><strong>Cluster Profiles:<strong><strong><em>__</em></strong></strong></strong></p>\n",
    "<p><strong>Comparing Clusters:<strong><strong><em>__</em></strong></strong></strong></p>\n"
   ]
  },
  {
   "cell_type": "markdown",
   "id": "c0658279",
   "metadata": {},
   "source": [
    "\n",
    "<h2 id=\"K-Medoids\">K-Medoids<a class=\"anchor-link\" href=\"#K-Medoids\">¶</a></h2>\n"
   ]
  },
  {
   "cell_type": "markdown",
   "id": "2d278b95",
   "metadata": {},
   "source": [
    "\n",
    "<h4 id=\"Question-7:\">Question 7:<a class=\"anchor-link\" href=\"#Question-7:\">¶</a></h4><ul>\n",
    "<li><strong>Apply the K-Mediods on the scaled data with random_state=1 (2 Marks)</strong> </li>\n",
    "<li><strong>Create cluster profiles using the below summary statistics and box plots for each label (2 Marks)</strong></li>\n",
    "<li><strong>Compare the clusters from both algorithms - K-Means and K-Medoids (2 Marks)</strong></li>\n",
    "</ul>\n"
   ]
  },
  {
   "cell_type": "code",
   "execution_count": 26,
   "id": "93771c47",
   "metadata": {
    "execution": {
     "iopub.execute_input": "2025-08-26T15:19:14.462780Z",
     "iopub.status.busy": "2025-08-26T15:19:14.462515Z",
     "iopub.status.idle": "2025-08-26T15:19:14.487922Z",
     "shell.execute_reply": "2025-08-26T15:19:14.487189Z"
    }
   },
   "outputs": [],
   "source": [
    "kmedo =  KMedoids(n_clusters = 3, random_state=1) #Apply the K-Medoids algorithm\n",
    "kmedo.fit(data_scaled) #Fit the kmedo function on the scaled data\n",
    "\n",
    "data_scaled_copy['kmedoLabels'] = kmedo.predict(data_scaled)\n",
    "data['kmedoLabels'] = kmedo.predict(data_scaled)\n"
   ]
  },
  {
   "cell_type": "code",
   "execution_count": 27,
   "id": "5c59b564",
   "metadata": {
    "execution": {
     "iopub.execute_input": "2025-08-26T15:19:14.494343Z",
     "iopub.status.busy": "2025-08-26T15:19:14.493933Z",
     "iopub.status.idle": "2025-08-26T15:19:14.503095Z",
     "shell.execute_reply": "2025-08-26T15:19:14.502491Z"
    }
   },
   "outputs": [
    {
     "data": {
      "text/plain": [
       "kmedoLabels\n",
       "2    273\n",
       "0    221\n",
       "1    155\n",
       "Name: count, dtype: int64"
      ]
     },
     "execution_count": 27,
     "metadata": {},
     "output_type": "execute_result"
    }
   ],
   "source": [
    "#Number of observations in each cluster\n",
    "data.kmedoLabels.value_counts()\n"
   ]
  },
  {
   "cell_type": "code",
   "execution_count": 28,
   "id": "856a11c3",
   "metadata": {
    "execution": {
     "iopub.execute_input": "2025-08-26T15:19:14.508986Z",
     "iopub.status.busy": "2025-08-26T15:19:14.506193Z",
     "iopub.status.idle": "2025-08-26T15:19:14.534355Z",
     "shell.execute_reply": "2025-08-26T15:19:14.533109Z"
    }
   },
   "outputs": [
    {
     "data": {
      "text/html": [
       "<div>\n",
       "<style scoped>\n",
       "    .dataframe tbody tr th:only-of-type {\n",
       "        vertical-align: middle;\n",
       "    }\n",
       "\n",
       "    .dataframe tbody tr th {\n",
       "        vertical-align: top;\n",
       "    }\n",
       "\n",
       "    .dataframe thead th {\n",
       "        text-align: right;\n",
       "    }\n",
       "</style>\n",
       "<table border=\"1\" class=\"dataframe\">\n",
       "  <thead>\n",
       "    <tr style=\"text-align: right;\">\n",
       "      <th></th>\n",
       "      <th>group_0 Mean</th>\n",
       "      <th>group_1 Mean</th>\n",
       "      <th>group_2 Mean</th>\n",
       "      <th>group_0 Median</th>\n",
       "      <th>group_1 Median</th>\n",
       "      <th>group_2 Median</th>\n",
       "    </tr>\n",
       "  </thead>\n",
       "  <tbody>\n",
       "    <tr>\n",
       "      <th>Avg_Credit_Limit</th>\n",
       "      <td>12203.619910</td>\n",
       "      <td>80625.806452</td>\n",
       "      <td>27260.073260</td>\n",
       "      <td>12000.0</td>\n",
       "      <td>66000.0</td>\n",
       "      <td>19000.0</td>\n",
       "    </tr>\n",
       "    <tr>\n",
       "      <th>Total_Credit_Cards</th>\n",
       "      <td>2.420814</td>\n",
       "      <td>6.741935</td>\n",
       "      <td>5.406593</td>\n",
       "      <td>2.0</td>\n",
       "      <td>7.0</td>\n",
       "      <td>6.0</td>\n",
       "    </tr>\n",
       "    <tr>\n",
       "      <th>Total_visits_bank</th>\n",
       "      <td>0.954751</td>\n",
       "      <td>1.800000</td>\n",
       "      <td>3.904762</td>\n",
       "      <td>1.0</td>\n",
       "      <td>2.0</td>\n",
       "      <td>4.0</td>\n",
       "    </tr>\n",
       "    <tr>\n",
       "      <th>Total_visits_online</th>\n",
       "      <td>3.565611</td>\n",
       "      <td>4.187097</td>\n",
       "      <td>0.974359</td>\n",
       "      <td>4.0</td>\n",
       "      <td>2.0</td>\n",
       "      <td>1.0</td>\n",
       "    </tr>\n",
       "    <tr>\n",
       "      <th>Total_calls_made</th>\n",
       "      <td>6.904977</td>\n",
       "      <td>2.006452</td>\n",
       "      <td>1.805861</td>\n",
       "      <td>7.0</td>\n",
       "      <td>2.0</td>\n",
       "      <td>2.0</td>\n",
       "    </tr>\n",
       "  </tbody>\n",
       "</table>\n",
       "</div>"
      ],
      "text/plain": [
       "                     group_0 Mean  group_1 Mean  group_2 Mean  group_0 Median  \\\n",
       "Avg_Credit_Limit     12203.619910  80625.806452  27260.073260         12000.0   \n",
       "Total_Credit_Cards       2.420814      6.741935      5.406593             2.0   \n",
       "Total_visits_bank        0.954751      1.800000      3.904762             1.0   \n",
       "Total_visits_online      3.565611      4.187097      0.974359             4.0   \n",
       "Total_calls_made         6.904977      2.006452      1.805861             7.0   \n",
       "\n",
       "                     group_1 Median  group_2 Median  \n",
       "Avg_Credit_Limit            66000.0         19000.0  \n",
       "Total_Credit_Cards              7.0             6.0  \n",
       "Total_visits_bank               2.0             4.0  \n",
       "Total_visits_online             2.0             1.0  \n",
       "Total_calls_made                2.0             2.0  "
      ]
     },
     "execution_count": 28,
     "metadata": {},
     "output_type": "execute_result"
    }
   ],
   "source": [
    "#Calculating summary statistics of the original data for each label\n",
    "mean = data.groupby('kmedoLabels').mean()\n",
    "median = data.groupby('kmedoLabels').median()\n",
    "df_kmedoids = pd.concat([mean, median], axis=0)\n",
    "df_kmedoids.index = ['group_0 Mean', 'group_1 Mean', 'group_2 Mean', 'group_0 Median', 'group_1 Median', 'group_2 Median']\n",
    "df_kmedoids[original_features].T\n"
   ]
  },
  {
   "cell_type": "code",
   "execution_count": 29,
   "id": "fb480c13",
   "metadata": {
    "execution": {
     "iopub.execute_input": "2025-08-26T15:19:14.538665Z",
     "iopub.status.busy": "2025-08-26T15:19:14.538400Z",
     "iopub.status.idle": "2025-08-26T15:19:15.644122Z",
     "shell.execute_reply": "2025-08-26T15:19:15.643351Z"
    }
   },
   "outputs": [
    {
     "data": {
      "image/png": "[encoded data removed]",
      "text/plain": [
       "<Figure size 2000x700 with 5 Axes>"
      ]
     },
     "metadata": {},
     "output_type": "display_data"
    }
   ],
   "source": [
    "#plotting boxplots with the new K-Medoids based labels\n",
    "\n",
    "features_with_lables = [\"Avg_Credit_Limit\",\t\"Total_Credit_Cards\",\"Total_visits_bank\",\"Total_visits_online\",\"Total_calls_made\",\"kmedoLabels\"]\n",
    "\n",
    "data_scaled_copy[features_with_lables].boxplot(by = 'kmedoLabels', layout = (1,5),figsize=(20,7))\n",
    "plt.show()\n"
   ]
  },
  {
   "cell_type": "markdown",
   "id": "729e75ef",
   "metadata": {},
   "source": [
    "\n",
    "<p>Let's compare the clusters from K-Means and K-Medoids</p>\n"
   ]
  },
  {
   "cell_type": "code",
   "execution_count": 30,
   "id": "f7aed66c",
   "metadata": {
    "execution": {
     "iopub.execute_input": "2025-08-26T15:19:15.646641Z",
     "iopub.status.busy": "2025-08-26T15:19:15.646420Z",
     "iopub.status.idle": "2025-08-26T15:19:15.660429Z",
     "shell.execute_reply": "2025-08-26T15:19:15.659769Z"
    }
   },
   "outputs": [
    {
     "data": {
      "text/html": [
       "<div>\n",
       "<style scoped>\n",
       "    .dataframe tbody tr th:only-of-type {\n",
       "        vertical-align: middle;\n",
       "    }\n",
       "\n",
       "    .dataframe tbody tr th {\n",
       "        vertical-align: top;\n",
       "    }\n",
       "\n",
       "    .dataframe thead th {\n",
       "        text-align: right;\n",
       "    }\n",
       "</style>\n",
       "<table border=\"1\" class=\"dataframe\">\n",
       "  <thead>\n",
       "    <tr style=\"text-align: right;\">\n",
       "      <th></th>\n",
       "      <th>Avg_Credit_Limit</th>\n",
       "      <th>Avg_Credit_Limit</th>\n",
       "      <th>Total_Credit_Cards</th>\n",
       "      <th>Total_Credit_Cards</th>\n",
       "      <th>Total_visits_bank</th>\n",
       "      <th>Total_visits_bank</th>\n",
       "      <th>Total_visits_online</th>\n",
       "      <th>Total_visits_online</th>\n",
       "      <th>Total_calls_made</th>\n",
       "      <th>Total_calls_made</th>\n",
       "    </tr>\n",
       "  </thead>\n",
       "  <tbody>\n",
       "    <tr>\n",
       "      <th>group_0 Mean</th>\n",
       "      <td>12203.619910</td>\n",
       "      <td>34071.428571</td>\n",
       "      <td>2.420814</td>\n",
       "      <td>5.518519</td>\n",
       "      <td>0.954751</td>\n",
       "      <td>3.484127</td>\n",
       "      <td>3.565611</td>\n",
       "      <td>0.981481</td>\n",
       "      <td>6.904977</td>\n",
       "      <td>1.992063</td>\n",
       "    </tr>\n",
       "    <tr>\n",
       "      <th>group_1 Mean</th>\n",
       "      <td>80625.806452</td>\n",
       "      <td>12239.819005</td>\n",
       "      <td>6.741935</td>\n",
       "      <td>2.411765</td>\n",
       "      <td>1.800000</td>\n",
       "      <td>0.945701</td>\n",
       "      <td>4.187097</td>\n",
       "      <td>3.561086</td>\n",
       "      <td>2.006452</td>\n",
       "      <td>6.891403</td>\n",
       "    </tr>\n",
       "    <tr>\n",
       "      <th>group_2 Mean</th>\n",
       "      <td>27260.073260</td>\n",
       "      <td>141040.000000</td>\n",
       "      <td>5.406593</td>\n",
       "      <td>8.740000</td>\n",
       "      <td>3.904762</td>\n",
       "      <td>0.600000</td>\n",
       "      <td>0.974359</td>\n",
       "      <td>10.900000</td>\n",
       "      <td>1.805861</td>\n",
       "      <td>1.080000</td>\n",
       "    </tr>\n",
       "    <tr>\n",
       "      <th>group_0 Median</th>\n",
       "      <td>12000.000000</td>\n",
       "      <td>32000.000000</td>\n",
       "      <td>2.000000</td>\n",
       "      <td>6.000000</td>\n",
       "      <td>1.000000</td>\n",
       "      <td>3.000000</td>\n",
       "      <td>4.000000</td>\n",
       "      <td>1.000000</td>\n",
       "      <td>7.000000</td>\n",
       "      <td>2.000000</td>\n",
       "    </tr>\n",
       "    <tr>\n",
       "      <th>group_1 Median</th>\n",
       "      <td>66000.000000</td>\n",
       "      <td>12000.000000</td>\n",
       "      <td>7.000000</td>\n",
       "      <td>2.000000</td>\n",
       "      <td>2.000000</td>\n",
       "      <td>1.000000</td>\n",
       "      <td>2.000000</td>\n",
       "      <td>4.000000</td>\n",
       "      <td>2.000000</td>\n",
       "      <td>7.000000</td>\n",
       "    </tr>\n",
       "    <tr>\n",
       "      <th>group_2 Median</th>\n",
       "      <td>19000.000000</td>\n",
       "      <td>145500.000000</td>\n",
       "      <td>6.000000</td>\n",
       "      <td>9.000000</td>\n",
       "      <td>4.000000</td>\n",
       "      <td>1.000000</td>\n",
       "      <td>1.000000</td>\n",
       "      <td>11.000000</td>\n",
       "      <td>2.000000</td>\n",
       "      <td>1.000000</td>\n",
       "    </tr>\n",
       "  </tbody>\n",
       "</table>\n",
       "</div>"
      ],
      "text/plain": [
       "                Avg_Credit_Limit  Avg_Credit_Limit  Total_Credit_Cards  \\\n",
       "group_0 Mean        12203.619910      34071.428571            2.420814   \n",
       "group_1 Mean        80625.806452      12239.819005            6.741935   \n",
       "group_2 Mean        27260.073260     141040.000000            5.406593   \n",
       "group_0 Median      12000.000000      32000.000000            2.000000   \n",
       "group_1 Median      66000.000000      12000.000000            7.000000   \n",
       "group_2 Median      19000.000000     145500.000000            6.000000   \n",
       "\n",
       "                Total_Credit_Cards  Total_visits_bank  Total_visits_bank  \\\n",
       "group_0 Mean              5.518519           0.954751           3.484127   \n",
       "group_1 Mean              2.411765           1.800000           0.945701   \n",
       "group_2 Mean              8.740000           3.904762           0.600000   \n",
       "group_0 Median            6.000000           1.000000           3.000000   \n",
       "group_1 Median            2.000000           2.000000           1.000000   \n",
       "group_2 Median            9.000000           4.000000           1.000000   \n",
       "\n",
       "                Total_visits_online  Total_visits_online  Total_calls_made  \\\n",
       "group_0 Mean               3.565611             0.981481          6.904977   \n",
       "group_1 Mean               4.187097             3.561086          2.006452   \n",
       "group_2 Mean               0.974359            10.900000          1.805861   \n",
       "group_0 Median             4.000000             1.000000          7.000000   \n",
       "group_1 Median             2.000000             4.000000          2.000000   \n",
       "group_2 Median             1.000000            11.000000          2.000000   \n",
       "\n",
       "                Total_calls_made  \n",
       "group_0 Mean            1.992063  \n",
       "group_1 Mean            6.891403  \n",
       "group_2 Mean            1.080000  \n",
       "group_0 Median          2.000000  \n",
       "group_1 Median          7.000000  \n",
       "group_2 Median          1.000000  "
      ]
     },
     "execution_count": 30,
     "metadata": {},
     "output_type": "execute_result"
    }
   ],
   "source": [
    "comparison = pd.concat([df_kmedoids, df_kmeans], axis=1)[original_features]\n",
    "comparison\n"
   ]
  },
  {
   "cell_type": "markdown",
   "id": "21c15adf",
   "metadata": {},
   "source": [
    "\n",
    "<p><strong>Cluster Profiles:<strong><strong><em>__</em></strong></strong></strong></p>\n",
    "<p><strong>Comparing Clusters:<strong><strong><strong><strong>___</strong></strong></strong></strong></strong></p>\n"
   ]
  }
 ],
 "metadata": {
  "language_info": {
   "codemirror_mode": {
    "name": "ipython",
    "version": 3
   },
   "file_extension": ".py",
   "mimetype": "text/x-python",
   "name": "python",
   "nbconvert_exporter": "python",
   "pygments_lexer": "ipython3",
   "version": "3.10.13"
  }
 },
 "nbformat": 4,
 "nbformat_minor": 5
}
